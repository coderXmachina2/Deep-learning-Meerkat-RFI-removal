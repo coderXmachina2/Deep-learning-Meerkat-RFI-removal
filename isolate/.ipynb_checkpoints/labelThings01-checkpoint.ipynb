{
 "cells": [
  {
   "cell_type": "code",
   "execution_count": null,
   "metadata": {},
   "outputs": [],
   "source": [
    "#Track the Generator by Epoch\n",
    "\n",
    "\n",
    "#take the script where you processed the text\n",
    "\n",
    "n_epoch = 7 #we trained for 7 epochs\n",
    "\n",
    "with open(\"epochalTrainingEvolution.txt\", \"a\") as p:\n",
    "    with open(\"stackTrace-2019-12-09-03.txt\", \"r\") as f:\n",
    "        lines = f.readlines()\n",
    "        for t in range(0, len(lines)):\n",
    "            if (\"acc\" in lines[t] or lines[t].startswith(\"Epoch\")):\n",
    "                \n",
    "                print(lines[t])\n",
    "                p.write(lines[t])\n",
    "                #writes line to text file"
   ]
  }
 ],
 "metadata": {
  "kernelspec": {
   "display_name": "Python 3",
   "language": "python",
   "name": "python3"
  },
  "language_info": {
   "codemirror_mode": {
    "name": "ipython",
    "version": 3
   },
   "file_extension": ".py",
   "mimetype": "text/x-python",
   "name": "python",
   "nbconvert_exporter": "python",
   "pygments_lexer": "ipython3",
   "version": "3.7.1"
  }
 },
 "nbformat": 4,
 "nbformat_minor": 2
}
