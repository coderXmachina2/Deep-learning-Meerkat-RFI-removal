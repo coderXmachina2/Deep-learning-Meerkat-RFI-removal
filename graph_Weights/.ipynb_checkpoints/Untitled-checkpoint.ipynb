{
 "cells": [
  {
   "cell_type": "code",
   "execution_count": 49,
   "metadata": {},
   "outputs": [
    {
     "name": "stdout",
     "output_type": "stream",
     "text": [
      "File openned but not loaded\n"
     ]
    }
   ],
   "source": [
    "from __future__ import absolute_import, division, print_function, unicode_literals\n",
    "import os\n",
    "import random\n",
    "import gc\n",
    "import numpy as np\n",
    "import pickle\n",
    "import pandas as pd\n",
    "import matplotlib.pyplot as plt\n",
    "\n",
    "#import sys\n",
    "#sys.setdefaultencoding('utf-8')\n",
    "\n",
    "with open('label_weight.pickle', 'rb') as fid:\n",
    "    a = pickle.load(fid, encoding='latin1')\n",
    "    print(\"File openned and loaded\")\n"
   ]
  },
  {
   "cell_type": "code",
   "execution_count": 22,
   "metadata": {},
   "outputs": [
    {
     "data": {
      "text/plain": [
       "41"
      ]
     },
     "execution_count": 22,
     "metadata": {},
     "output_type": "execute_result"
    }
   ],
   "source": [
    "#there should be 245\n",
    "len(a)"
   ]
  },
  {
   "cell_type": "code",
   "execution_count": 36,
   "metadata": {},
   "outputs": [
    {
     "name": "stdout",
     "output_type": "stream",
     "text": [
      "/home/zrj7023/myPSRData/timing_processed/J1101-6424/2019-07-01-11-c-49-c-53/1/1284/cleaned/J1101-6424_2019-07-01-11-c-49-c-52_zap.ar\n",
      "/home/zrj7023/myPSRData/timing_processed/J1839-0459/2019-06-21-21-c-57-c-24/1/1284/cleaned/J1839-0459_2019-06-21-21-c-57-c-20_zap.ar\n",
      "/home/zrj7023/myPSRData/timing_processed/J1802-2124/2019-09-24-16-c-19-c-13/1/1284/cleaned/J1802-2124_2019-09-24-16-c-19-c-12_zap.ar\n",
      "/home/zrj7023/myPSRData/timing_processed/J1732-5049/2019-08-02-15-c-32-c-32/1/1284/cleaned/J1732-5049_2019-08-02-15-c-32-c-32_zap.ar\n",
      "/home/zrj7023/myPSRData/timing_processed/J1657-4432/2019-06-21-20-c-05-c-22/1/1284/cleaned/J1657-4432_2019-06-21-20-c-05-c-20_zap.ar\n",
      "/home/zrj7023/myPSRData/timing_processed/J1130-6807/2019-07-14-16-c-06-c-51/1/1284/cleaned/J1130-6807_2019-07-14-16-c-06-c-48_zap.ar\n",
      "/home/zrj7023/myPSRData/timing_processed/J1101-6424/2019-04-02-23-c-42-c-35/1/1284/cleaned/J1101-6424_2019-04-02-23-c-42-c-40_zap.ar\n",
      "/home/zrj7023/myPSRData/timing_processed/J1125-6014/2019-04-22-16-c-28-c-09/1/1284/cleaned/J1125-6014_2019-04-22-16-c-28-c-16_zap.ar\n",
      "/home/zrj7023/myPSRData/timing_processed/J1839-0459/2019-08-17-22-c-51-c-34/1/1284/cleaned/J1839-0459_2019-08-17-22-c-51-c-28_zap.ar\n",
      "/home/zrj7023/myPSRData/timing_processed/J1839-0459/2019-05-21-01-c-09-c-29/1/1284/cleaned/J1839-0459_2019-05-21-01-c-09-c-28_zap.ar\n",
      "/home/zrj7023/myPSRData/timing_processed/J1754-3443/2019-07-25-21-c-37-c-45/1/1284/cleaned/J1754-3443_2019-07-25-21-c-37-c-44_zap.ar\n",
      "/home/zrj7023/myPSRData/timing_processed/J1732-5049/2019-03-26-23-c-31-c-56/1/1284/cleaned/J1732-5049_2019-03-26-23-c-32-c-00_zap.ar\n",
      "/home/zrj7023/myPSRData/timing_processed/J1512-5431/2019-07-14-15-c-29-c-08/1/1284/cleaned/J1512-5431_2019-07-14-15-c-29-c-12_zap.ar\n",
      "/home/zrj7023/myPSRData/timing_processed/J1125-6014/2019-09-04-16-c-23-c-09/1/1284/cleaned/J1125-6014_2019-09-04-16-c-23-c-04_zap.ar\n",
      "/home/zrj7023/myPSRData/timing_processed/J1732-5049/2019-07-01-16-c-31-c-36/1/1284/cleaned/J1732-5049_2019-07-01-16-c-31-c-36_zap.ar\n",
      "/home/zrj7023/myPSRData/timing_processed/J1657-4432/2019-09-13-13-c-26-c-25/1/1284/cleaned/J1657-4432_2019-09-13-13-c-26-c-24_zap.ar\n",
      "/home/zrj7023/myPSRData/timing_processed/J1802-2124/2019-10-05-13-c-40-c-52/1/1284/cleaned/J1802-2124_2019-10-05-13-c-40-c-48_zap.ar\n",
      "/home/zrj7023/myPSRData/timing_processed/J1734-2415/2019-06-21-20-c-57-c-43/1/1284/cleaned/J1734-2415_2019-06-21-20-c-57-c-44_zap.ar\n",
      "/home/zrj7023/myPSRData/timing_processed/J1125-6014/2019-05-20-18-c-23-c-40/1/1284/cleaned/J1125-6014_2019-05-20-18-c-23-c-44_zap.ar\n",
      "/home/zrj7023/myPSRData/timing_processed/J0125-2327/2019-05-14-10-c-14-c-18/1/1284/cleaned/J0125-2327_2019-05-14-10-c-14-c-24_zap.ar\n",
      "/home/zrj7023/myPSRData/timing_processed/J1657-4432/2019-05-20-23-c-48-c-54/1/1284/cleaned/J1657-4432_2019-05-20-23-c-48-c-48_zap.ar\n",
      "/home/zrj7023/myPSRData/timing_processed/J1839-0459/2019-09-17-18-c-34-c-55/1/1284/cleaned/J1839-0459_2019-09-17-18-c-34-c-56_zap.ar\n",
      "/home/zrj7023/myPSRData/timing_processed/J1101-6424/2019-04-22-16-c-19-c-00/1/1284/cleaned/J1101-6424_2019-04-22-16-c-19-c-04_zap.ar\n",
      "/home/zrj7023/myPSRData/timing_processed/J1802-2124/2019-03-08-03-c-59-c-57/1/1284/cleaned/J1802-2124_2019-03-08-04-c-00-c-00_zap.ar\n",
      "/home/zrj7023/myPSRData/timing_processed/J0125-2327/2019-07-20-03-c-00-c-30/1/1284/cleaned/J0125-2327_2019-07-20-03-c-00-c-24_zap.ar\n",
      "/home/zrj7023/myPSRData/timing_processed/J1802-2124/2019-09-01-14-c-48-c-28/1/1284/cleaned/J1802-2124_2019-09-01-14-c-48-c-24_zap.ar\n",
      "/home/zrj7023/myPSRData/timing_processed/J1125-6014/2019-09-07-12-c-36-c-36/1/1284/cleaned/J1125-6014_2019-09-07-12-c-36-c-32_zap.ar\n",
      "/home/zrj7023/myPSRData/timing_processed/J0125-2327/2019-04-23-06-c-11-c-30/1/1284/cleaned/J0125-2327_2019-04-23-06-c-11-c-36_zap.ar\n",
      "/home/zrj7023/myPSRData/timing_processed/J1125-6014/2019-08-02-16-c-39-c-49/1/1284/cleaned/J1125-6014_2019-08-02-16-c-39-c-44_zap.ar\n",
      "/home/zrj7023/myPSRData/timing_processed/J1101-6424/2019-08-02-16-c-44-c-49/1/1284/cleaned/J1101-6424_2019-08-02-16-c-44-c-48_zap.ar\n",
      "/home/zrj7023/myPSRData/timing_processed/J1759-2307/2019-07-14-17-c-07-c-07/1/1284/cleaned/J1759-2307_2019-07-14-17-c-07-c-04_zap.ar\n",
      "/home/zrj7023/myPSRData/timing_processed/J1732-5049/2019-02-12-08-c-09-c-45/1/1284/cleaned/J1732-5049_2019-02-12-08-c-09-c-52_zap.ar\n",
      "/home/zrj7023/myPSRData/timing_processed/J0125-2327/2019-09-24-23-c-05-c-35/1/1284/cleaned/J0125-2327_2019-09-24-23-c-05-c-28_zap.ar\n",
      "/home/zrj7023/myPSRData/timing_processed/J1734-2415/2019-05-21-03-c-04-c-32/1/1284/cleaned/J1734-2415_2019-05-21-03-c-04-c-32_zap.ar\n",
      "/home/zrj7023/myPSRData/timing_processed/J1125-6014/2019-07-01-13-c-09-c-46/1/1284/cleaned/J1125-6014_2019-07-01-13-c-09-c-44_zap.ar\n",
      "/home/zrj7023/myPSRData/timing_processed/J0125-2327/2019-09-29-00-c-27-c-24/1/1284/cleaned/J0125-2327_2019-09-29-00-c-27-c-20_zap.ar\n",
      "/home/zrj7023/myPSRData/timing_processed/J1829-0734/2019-07-14-19-c-01-c-17/1/1284/cleaned/J1829-0734_2019-07-14-19-c-01-c-12_zap.ar\n",
      "/home/zrj7023/myPSRData/timing_processed/J1732-5049/2019-09-01-21-c-10-c-42/1/1284/cleaned/J1732-5049_2019-09-01-21-c-10-c-40_zap.ar\n",
      "/home/zrj7023/myPSRData/timing_processed/J1732-5049/2019-04-23-02-c-56-c-37/1/1284/cleaned/J1732-5049_2019-04-23-02-c-56-c-40_zap.ar\n",
      "/home/zrj7023/myPSRData/timing_processed/J1125-6014/2019-04-16-21-c-38-c-53/1/1284/cleaned/J1125-6014_2019-04-16-21-c-38-c-56_zap.ar\n",
      "/home/zrj7023/myPSRData/timing_processed/J1125-6014/2019-09-29-08-c-41-c-23/1/1284/cleaned/J1125-6014_2019-09-29-08-c-41-c-20_zap.ar\n"
     ]
    }
   ],
   "source": [
    "#myArr = np.array([])\n",
    "for k, v in a.items():\n",
    "    #myArr  = np.append(myArr , v)\n",
    "    print(k) #append each into a pd array?"
   ]
  },
  {
   "cell_type": "code",
   "execution_count": 45,
   "metadata": {},
   "outputs": [
    {
     "data": {
      "text/plain": [
       "33"
      ]
     },
     "execution_count": 45,
     "metadata": {},
     "output_type": "execute_result"
    }
   ],
   "source": [
    "test1 = a[\"/home/zrj7023/myPSRData/timing_processed/J1125-6014/2019-09-29-08-c-41-c-23/1/1284/cleaned/J1125-6014_2019-09-29-08-c-41-c-20_zap.ar\"]\n",
    "len(test1)"
   ]
  },
  {
   "cell_type": "code",
   "execution_count": 48,
   "metadata": {},
   "outputs": [
    {
     "ename": "NameError",
     "evalue": "name 'plt' is not defined",
     "output_type": "error",
     "traceback": [
      "\u001b[1;31m---------------------------------------------------------------------------\u001b[0m",
      "\u001b[1;31mNameError\u001b[0m                                 Traceback (most recent call last)",
      "\u001b[1;32m<ipython-input-48-014c01716c25>\u001b[0m in \u001b[0;36m<module>\u001b[1;34m\u001b[0m\n\u001b[1;32m----> 1\u001b[1;33m \u001b[0mplt\u001b[0m\u001b[1;33m.\u001b[0m\u001b[0mimshow\u001b[0m\u001b[1;33m(\u001b[0m\u001b[0mtest1\u001b[0m\u001b[1;33m)\u001b[0m\u001b[1;33m\u001b[0m\u001b[1;33m\u001b[0m\u001b[0m\n\u001b[0m",
      "\u001b[1;31mNameError\u001b[0m: name 'plt' is not defined"
     ]
    }
   ],
   "source": [
    "plt.imshow(test1)"
   ]
  },
  {
   "cell_type": "code",
   "execution_count": 46,
   "metadata": {},
   "outputs": [
    {
     "data": {
      "text/plain": [
       "64"
      ]
     },
     "execution_count": 46,
     "metadata": {},
     "output_type": "execute_result"
    }
   ],
   "source": [
    "test2 = a[\"/home/zrj7023/myPSRData/timing_processed/J1732-5049/2019-04-23-02-c-56-c-37/1/1284/cleaned/J1732-5049_2019-04-23-02-c-56-c-40_zap.ar\"]\n",
    "len(test2)"
   ]
  },
  {
   "cell_type": "code",
   "execution_count": 47,
   "metadata": {},
   "outputs": [
    {
     "data": {
      "text/plain": [
       "34"
      ]
     },
     "execution_count": 47,
     "metadata": {},
     "output_type": "execute_result"
    }
   ],
   "source": [
    "test3 = a[\"/home/zrj7023/myPSRData/timing_processed/J0125-2327/2019-09-24-23-c-05-c-35/1/1284/cleaned/J0125-2327_2019-09-24-23-c-05-c-28_zap.ar\"]\n",
    "len(test3)"
   ]
  },
  {
   "cell_type": "code",
   "execution_count": null,
   "metadata": {},
   "outputs": [],
   "source": []
  }
 ],
 "metadata": {
  "kernelspec": {
   "display_name": "Python 3",
   "language": "python",
   "name": "python3"
  },
  "language_info": {
   "codemirror_mode": {
    "name": "ipython",
    "version": 3
   },
   "file_extension": ".py",
   "mimetype": "text/x-python",
   "name": "python",
   "nbconvert_exporter": "python",
   "pygments_lexer": "ipython3",
   "version": "3.7.1"
  }
 },
 "nbformat": 4,
 "nbformat_minor": 2
}
